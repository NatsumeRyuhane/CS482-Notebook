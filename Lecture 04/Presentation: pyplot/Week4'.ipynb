{
 "cells": [
  {
   "cell_type": "markdown",
   "id": "f3e0a9da",
   "metadata": {},
   "source": [
    "# Week4'"
   ]
  },
  {
   "cell_type": "code",
   "execution_count": 1,
   "id": "4e926aa8",
   "metadata": {},
   "outputs": [],
   "source": [
    "import pandas as pd\n",
    "import numpy as np\n",
    "import matplotlib.pyplot as plt"
   ]
  },
  {
   "cell_type": "code",
   "execution_count": 2,
   "id": "d20cd092",
   "metadata": {},
   "outputs": [
    {
     "data": {
      "text/html": [
       "<div>\n",
       "<style scoped>\n",
       "    .dataframe tbody tr th:only-of-type {\n",
       "        vertical-align: middle;\n",
       "    }\n",
       "\n",
       "    .dataframe tbody tr th {\n",
       "        vertical-align: top;\n",
       "    }\n",
       "\n",
       "    .dataframe thead th {\n",
       "        text-align: right;\n",
       "    }\n",
       "</style>\n",
       "<table border=\"1\" class=\"dataframe\">\n",
       "  <thead>\n",
       "    <tr style=\"text-align: right;\">\n",
       "      <th></th>\n",
       "      <th>City</th>\n",
       "      <th>Edition</th>\n",
       "      <th>Sport</th>\n",
       "      <th>Discipline</th>\n",
       "      <th>Athlete</th>\n",
       "      <th>NOC</th>\n",
       "      <th>Gender</th>\n",
       "      <th>Event</th>\n",
       "      <th>Event_gender</th>\n",
       "      <th>Medal</th>\n",
       "    </tr>\n",
       "  </thead>\n",
       "  <tbody>\n",
       "    <tr>\n",
       "      <th>0</th>\n",
       "      <td>Athens</td>\n",
       "      <td>1896</td>\n",
       "      <td>Aquatics</td>\n",
       "      <td>Swimming</td>\n",
       "      <td>HAJOS, Alfred</td>\n",
       "      <td>HUN</td>\n",
       "      <td>Men</td>\n",
       "      <td>100m freestyle</td>\n",
       "      <td>M</td>\n",
       "      <td>Gold</td>\n",
       "    </tr>\n",
       "    <tr>\n",
       "      <th>1</th>\n",
       "      <td>Athens</td>\n",
       "      <td>1896</td>\n",
       "      <td>Aquatics</td>\n",
       "      <td>Swimming</td>\n",
       "      <td>HERSCHMANN, Otto</td>\n",
       "      <td>AUT</td>\n",
       "      <td>Men</td>\n",
       "      <td>100m freestyle</td>\n",
       "      <td>M</td>\n",
       "      <td>Silver</td>\n",
       "    </tr>\n",
       "    <tr>\n",
       "      <th>2</th>\n",
       "      <td>Athens</td>\n",
       "      <td>1896</td>\n",
       "      <td>Aquatics</td>\n",
       "      <td>Swimming</td>\n",
       "      <td>DRIVAS, Dimitrios</td>\n",
       "      <td>GRE</td>\n",
       "      <td>Men</td>\n",
       "      <td>100m freestyle for sailors</td>\n",
       "      <td>M</td>\n",
       "      <td>Bronze</td>\n",
       "    </tr>\n",
       "    <tr>\n",
       "      <th>3</th>\n",
       "      <td>Athens</td>\n",
       "      <td>1896</td>\n",
       "      <td>Aquatics</td>\n",
       "      <td>Swimming</td>\n",
       "      <td>MALOKINIS, Ioannis</td>\n",
       "      <td>GRE</td>\n",
       "      <td>Men</td>\n",
       "      <td>100m freestyle for sailors</td>\n",
       "      <td>M</td>\n",
       "      <td>Gold</td>\n",
       "    </tr>\n",
       "    <tr>\n",
       "      <th>4</th>\n",
       "      <td>Athens</td>\n",
       "      <td>1896</td>\n",
       "      <td>Aquatics</td>\n",
       "      <td>Swimming</td>\n",
       "      <td>CHASAPIS, Spiridon</td>\n",
       "      <td>GRE</td>\n",
       "      <td>Men</td>\n",
       "      <td>100m freestyle for sailors</td>\n",
       "      <td>M</td>\n",
       "      <td>Silver</td>\n",
       "    </tr>\n",
       "    <tr>\n",
       "      <th>5</th>\n",
       "      <td>Athens</td>\n",
       "      <td>1896</td>\n",
       "      <td>Aquatics</td>\n",
       "      <td>Swimming</td>\n",
       "      <td>CHOROPHAS, Efstathios</td>\n",
       "      <td>GRE</td>\n",
       "      <td>Men</td>\n",
       "      <td>1200m freestyle</td>\n",
       "      <td>M</td>\n",
       "      <td>Bronze</td>\n",
       "    </tr>\n",
       "    <tr>\n",
       "      <th>6</th>\n",
       "      <td>Athens</td>\n",
       "      <td>1896</td>\n",
       "      <td>Aquatics</td>\n",
       "      <td>Swimming</td>\n",
       "      <td>HAJOS, Alfred</td>\n",
       "      <td>HUN</td>\n",
       "      <td>Men</td>\n",
       "      <td>1200m freestyle</td>\n",
       "      <td>M</td>\n",
       "      <td>Gold</td>\n",
       "    </tr>\n",
       "    <tr>\n",
       "      <th>7</th>\n",
       "      <td>Athens</td>\n",
       "      <td>1896</td>\n",
       "      <td>Aquatics</td>\n",
       "      <td>Swimming</td>\n",
       "      <td>ANDREOU, Joannis</td>\n",
       "      <td>GRE</td>\n",
       "      <td>Men</td>\n",
       "      <td>1200m freestyle</td>\n",
       "      <td>M</td>\n",
       "      <td>Silver</td>\n",
       "    </tr>\n",
       "    <tr>\n",
       "      <th>8</th>\n",
       "      <td>Athens</td>\n",
       "      <td>1896</td>\n",
       "      <td>Aquatics</td>\n",
       "      <td>Swimming</td>\n",
       "      <td>CHOROPHAS, Efstathios</td>\n",
       "      <td>GRE</td>\n",
       "      <td>Men</td>\n",
       "      <td>400m freestyle</td>\n",
       "      <td>M</td>\n",
       "      <td>Bronze</td>\n",
       "    </tr>\n",
       "    <tr>\n",
       "      <th>9</th>\n",
       "      <td>Athens</td>\n",
       "      <td>1896</td>\n",
       "      <td>Aquatics</td>\n",
       "      <td>Swimming</td>\n",
       "      <td>NEUMANN, Paul</td>\n",
       "      <td>AUT</td>\n",
       "      <td>Men</td>\n",
       "      <td>400m freestyle</td>\n",
       "      <td>M</td>\n",
       "      <td>Gold</td>\n",
       "    </tr>\n",
       "  </tbody>\n",
       "</table>\n",
       "</div>"
      ],
      "text/plain": [
       "     City  Edition     Sport Discipline                Athlete  NOC Gender  \\\n",
       "0  Athens     1896  Aquatics   Swimming          HAJOS, Alfred  HUN    Men   \n",
       "1  Athens     1896  Aquatics   Swimming       HERSCHMANN, Otto  AUT    Men   \n",
       "2  Athens     1896  Aquatics   Swimming      DRIVAS, Dimitrios  GRE    Men   \n",
       "3  Athens     1896  Aquatics   Swimming     MALOKINIS, Ioannis  GRE    Men   \n",
       "4  Athens     1896  Aquatics   Swimming     CHASAPIS, Spiridon  GRE    Men   \n",
       "5  Athens     1896  Aquatics   Swimming  CHOROPHAS, Efstathios  GRE    Men   \n",
       "6  Athens     1896  Aquatics   Swimming          HAJOS, Alfred  HUN    Men   \n",
       "7  Athens     1896  Aquatics   Swimming       ANDREOU, Joannis  GRE    Men   \n",
       "8  Athens     1896  Aquatics   Swimming  CHOROPHAS, Efstathios  GRE    Men   \n",
       "9  Athens     1896  Aquatics   Swimming          NEUMANN, Paul  AUT    Men   \n",
       "\n",
       "                        Event Event_gender   Medal  \n",
       "0              100m freestyle            M    Gold  \n",
       "1              100m freestyle            M  Silver  \n",
       "2  100m freestyle for sailors            M  Bronze  \n",
       "3  100m freestyle for sailors            M    Gold  \n",
       "4  100m freestyle for sailors            M  Silver  \n",
       "5             1200m freestyle            M  Bronze  \n",
       "6             1200m freestyle            M    Gold  \n",
       "7             1200m freestyle            M  Silver  \n",
       "8              400m freestyle            M  Bronze  \n",
       "9              400m freestyle            M    Gold  "
      ]
     },
     "execution_count": 2,
     "metadata": {},
     "output_type": "execute_result"
    }
   ],
   "source": [
    "df=pd.read_csv(\"all_medalists.csv\")\n",
    "df.head(10)"
   ]
  },
  {
   "cell_type": "code",
   "execution_count": 3,
   "id": "750eabf2",
   "metadata": {},
   "outputs": [
    {
     "data": {
      "text/plain": [
       "RangeIndex(start=0, stop=29216, step=1)"
      ]
     },
     "execution_count": 3,
     "metadata": {},
     "output_type": "execute_result"
    }
   ],
   "source": [
    "df.index"
   ]
  },
  {
   "cell_type": "code",
   "execution_count": 4,
   "id": "41bae63c",
   "metadata": {},
   "outputs": [],
   "source": [
    "inx1=df.loc[:,\"City\"]"
   ]
  },
  {
   "cell_type": "code",
   "execution_count": 5,
   "id": "62950a50",
   "metadata": {},
   "outputs": [
    {
     "data": {
      "text/plain": [
       "0         Athens\n",
       "1         Athens\n",
       "2         Athens\n",
       "3         Athens\n",
       "4         Athens\n",
       "          ...   \n",
       "29211    Beijing\n",
       "29212    Beijing\n",
       "29213    Beijing\n",
       "29214    Beijing\n",
       "29215    Beijing\n",
       "Name: City, Length: 29216, dtype: object"
      ]
     },
     "execution_count": 5,
     "metadata": {},
     "output_type": "execute_result"
    }
   ],
   "source": [
    "inx1"
   ]
  },
  {
   "cell_type": "code",
   "execution_count": 6,
   "id": "0cdce89a",
   "metadata": {},
   "outputs": [
    {
     "data": {
      "text/plain": [
       "array(['Amsterdam', 'Antwerp', 'Athens', 'Atlanta', 'Barcelona',\n",
       "       'Beijing', 'Berlin', 'Helsinki', 'London', 'Los Angeles',\n",
       "       'Melbourne / Stockholm', 'Mexico', 'Montreal', 'Moscow', 'Munich',\n",
       "       'Paris', 'Rome', 'Seoul', 'St Louis', 'Stockholm', 'Sydney',\n",
       "       'Tokyo'], dtype=object)"
      ]
     },
     "execution_count": 6,
     "metadata": {},
     "output_type": "execute_result"
    }
   ],
   "source": [
    "inx=np.unique(inx1.values)\n",
    "inx"
   ]
  },
  {
   "cell_type": "code",
   "execution_count": 7,
   "id": "daaa9e52",
   "metadata": {},
   "outputs": [
    {
     "data": {
      "text/plain": [
       "array(['Athens', 'Paris', 'St Louis', 'London', 'Stockholm', 'Antwerp',\n",
       "       'Amsterdam', 'Los Angeles', 'Berlin', 'Helsinki',\n",
       "       'Melbourne / Stockholm', 'Rome', 'Tokyo', 'Mexico', 'Munich',\n",
       "       'Montreal', 'Moscow', 'Seoul', 'Barcelona', 'Atlanta', 'Sydney',\n",
       "       'Beijing'], dtype=object)"
      ]
     },
     "execution_count": 7,
     "metadata": {},
     "output_type": "execute_result"
    }
   ],
   "source": [
    "inx2=df[\"City\"].unique()\n",
    "inx2"
   ]
  },
  {
   "cell_type": "code",
   "execution_count": 8,
   "id": "7cf76920",
   "metadata": {},
   "outputs": [
    {
     "data": {
      "text/plain": [
       "['Amsterdam',\n",
       " 'Antwerp',\n",
       " 'Athens',\n",
       " 'Atlanta',\n",
       " 'Barcelona',\n",
       " 'Beijing',\n",
       " 'Berlin',\n",
       " 'Helsinki',\n",
       " 'London',\n",
       " 'Los Angeles',\n",
       " 'Melbourne / Stockholm',\n",
       " 'Mexico',\n",
       " 'Montreal',\n",
       " 'Moscow',\n",
       " 'Munich',\n",
       " 'Paris',\n",
       " 'Rome',\n",
       " 'Seoul',\n",
       " 'St Louis',\n",
       " 'Stockholm',\n",
       " 'Sydney',\n",
       " 'Tokyo']"
      ]
     },
     "execution_count": 8,
     "metadata": {},
     "output_type": "execute_result"
    }
   ],
   "source": [
    "inx=list(inx)\n",
    "inx"
   ]
  },
  {
   "cell_type": "code",
   "execution_count": 9,
   "id": "bb439fdc",
   "metadata": {},
   "outputs": [
    {
     "data": {
      "text/plain": [
       "22"
      ]
     },
     "execution_count": 9,
     "metadata": {},
     "output_type": "execute_result"
    }
   ],
   "source": [
    "len(inx)"
   ]
  },
  {
   "cell_type": "code",
   "execution_count": 10,
   "id": "26858e11",
   "metadata": {},
   "outputs": [],
   "source": [
    "from collections import Counter\n",
    "data=Counter(inx1.values)"
   ]
  },
  {
   "cell_type": "code",
   "execution_count": 11,
   "id": "9d1fbbb4",
   "metadata": {},
   "outputs": [
    {
     "data": {
      "text/plain": [
       "Counter({'Athens': 2149,\n",
       "         'Paris': 1396,\n",
       "         'St Louis': 470,\n",
       "         'London': 1618,\n",
       "         'Stockholm': 885,\n",
       "         'Antwerp': 1298,\n",
       "         'Amsterdam': 710,\n",
       "         'Los Angeles': 2074,\n",
       "         'Berlin': 875,\n",
       "         'Helsinki': 889,\n",
       "         'Melbourne / Stockholm': 885,\n",
       "         'Rome': 882,\n",
       "         'Tokyo': 1010,\n",
       "         'Mexico': 1031,\n",
       "         'Munich': 1185,\n",
       "         'Montreal': 1305,\n",
       "         'Moscow': 1387,\n",
       "         'Seoul': 1546,\n",
       "         'Barcelona': 1705,\n",
       "         'Atlanta': 1859,\n",
       "         'Sydney': 2015,\n",
       "         'Beijing': 2042})"
      ]
     },
     "execution_count": 11,
     "metadata": {},
     "output_type": "execute_result"
    }
   ],
   "source": [
    "data"
   ]
  },
  {
   "cell_type": "code",
   "execution_count": 12,
   "id": "82d2b98f",
   "metadata": {},
   "outputs": [],
   "source": [
    "x=list(data.keys())\n",
    "y=list(data.values())"
   ]
  },
  {
   "cell_type": "code",
   "execution_count": 13,
   "id": "8f0a2047",
   "metadata": {},
   "outputs": [
    {
     "data": {
      "text/plain": [
       "['Athens',\n",
       " 'Paris',\n",
       " 'St Louis',\n",
       " 'London',\n",
       " 'Stockholm',\n",
       " 'Antwerp',\n",
       " 'Amsterdam',\n",
       " 'Los Angeles',\n",
       " 'Berlin',\n",
       " 'Helsinki',\n",
       " 'Melbourne / Stockholm',\n",
       " 'Rome',\n",
       " 'Tokyo',\n",
       " 'Mexico',\n",
       " 'Munich',\n",
       " 'Montreal',\n",
       " 'Moscow',\n",
       " 'Seoul',\n",
       " 'Barcelona',\n",
       " 'Atlanta',\n",
       " 'Sydney',\n",
       " 'Beijing']"
      ]
     },
     "execution_count": 13,
     "metadata": {},
     "output_type": "execute_result"
    }
   ],
   "source": [
    "x"
   ]
  },
  {
   "cell_type": "code",
   "execution_count": 14,
   "id": "03d549c3",
   "metadata": {},
   "outputs": [
    {
     "data": {
      "text/plain": [
       "[2149,\n",
       " 1396,\n",
       " 470,\n",
       " 1618,\n",
       " 885,\n",
       " 1298,\n",
       " 710,\n",
       " 2074,\n",
       " 875,\n",
       " 889,\n",
       " 885,\n",
       " 882,\n",
       " 1010,\n",
       " 1031,\n",
       " 1185,\n",
       " 1305,\n",
       " 1387,\n",
       " 1546,\n",
       " 1705,\n",
       " 1859,\n",
       " 2015,\n",
       " 2042]"
      ]
     },
     "execution_count": 14,
     "metadata": {},
     "output_type": "execute_result"
    }
   ],
   "source": [
    "y"
   ]
  },
  {
   "cell_type": "code",
   "execution_count": 15,
   "id": "4a5e2758",
   "metadata": {},
   "outputs": [
    {
     "data": {
      "text/plain": [
       "[0.0,\n",
       " 10.0,\n",
       " 20.0,\n",
       " 30.0,\n",
       " 40.0,\n",
       " 50.0,\n",
       " 60.0,\n",
       " 70.0,\n",
       " 80.0,\n",
       " 90.0,\n",
       " 100.0,\n",
       " 110.0,\n",
       " 120.0,\n",
       " 130.0,\n",
       " 140.0,\n",
       " 150.0,\n",
       " 160.0,\n",
       " 170.0,\n",
       " 180.0,\n",
       " 190.0,\n",
       " 200.0,\n",
       " 210.0]"
      ]
     },
     "execution_count": 15,
     "metadata": {},
     "output_type": "execute_result"
    }
   ],
   "source": [
    "xt=list(np.linspace(0,210,22))\n",
    "xt"
   ]
  },
  {
   "cell_type": "code",
   "execution_count": 16,
   "id": "370c7713",
   "metadata": {},
   "outputs": [],
   "source": [
    "x=['Melbourne' if i =='Melbourne / Stockholm' else i for i in x]\n",
    "x=['LA' if i =='Los Angeles' else i for i in x]"
   ]
  },
  {
   "cell_type": "code",
   "execution_count": 17,
   "id": "c6470f6a",
   "metadata": {},
   "outputs": [
    {
     "data": {
      "text/plain": [
       "['Athens',\n",
       " 'Paris',\n",
       " 'St Louis',\n",
       " 'London',\n",
       " 'Stockholm',\n",
       " 'Antwerp',\n",
       " 'Amsterdam',\n",
       " 'LA',\n",
       " 'Berlin',\n",
       " 'Helsinki',\n",
       " 'Melbourne',\n",
       " 'Rome',\n",
       " 'Tokyo',\n",
       " 'Mexico',\n",
       " 'Munich',\n",
       " 'Montreal',\n",
       " 'Moscow',\n",
       " 'Seoul',\n",
       " 'Barcelona',\n",
       " 'Atlanta',\n",
       " 'Sydney',\n",
       " 'Beijing']"
      ]
     },
     "execution_count": 17,
     "metadata": {},
     "output_type": "execute_result"
    }
   ],
   "source": [
    "x"
   ]
  },
  {
   "cell_type": "code",
   "execution_count": 21,
   "id": "e09d70aa",
   "metadata": {
    "scrolled": false
   },
   "outputs": [
    {
     "data": {
      "image/png": "[encoded data removed]",
      "text/plain": [
       "<Figure size 1584x720 with 1 Axes>"
      ]
     },
     "metadata": {
      "needs_background": "light"
     },
     "output_type": "display_data"
    }
   ],
   "source": [
    "plt.figure(figsize=(22,10))\n",
    "plt.bar(xt,y,width=9,color=[\"r\",\"g\",\"b\",\"y\"])\n",
    "plt.xticks(xt,x,rotation = 90)\n",
    "plt.show()"
   ]
  },
  {
   "cell_type": "code",
   "execution_count": 22,
   "id": "da75c1c3",
   "metadata": {},
   "outputs": [
    {
     "name": "stdout",
     "output_type": "stream",
     "text": [
      "[12, 2672345998, 3848153764, 303611414, 4045738108, 3301676126, 3097384852, 1918167142, 2269804012, 2226605102, 2164928900]\n"
     ]
    }
   ],
   "source": [
    "import numpy as np\n",
    "[a,c,m]=(222695499,10,2**32)\n",
    "x=12\n",
    "X_rand=[x]\n",
    "for i in range(10):\n",
    "    x=np.mod(a*x+c,m)\n",
    "    X_rand.append(x)\n",
    "print(X_rand)  \n",
    "    "
   ]
  },
  {
   "cell_type": "code",
   "execution_count": 29,
   "id": "ad141d3a",
   "metadata": {},
   "outputs": [
    {
     "data": {
      "image/png": "[encoded data removed]",
      "text/plain": [
       "<Figure size 432x288 with 1 Axes>"
      ]
     },
     "metadata": {
      "needs_background": "light"
     },
     "output_type": "display_data"
    }
   ],
   "source": [
    "fig, ax = plt.subplots()\n",
    "ax.hist(X_rand, bins = 11, color = 'b')\n",
    "plt.show()"
   ]
  },
  {
   "cell_type": "code",
   "execution_count": 25,
   "id": "aa72c71e",
   "metadata": {},
   "outputs": [
    {
     "data": {
      "image/png": "[encoded data removed]",
      "text/plain": [
       "<Figure size 432x288 with 1 Axes>"
      ]
     },
     "metadata": {
      "needs_background": "light"
     },
     "output_type": "display_data"
    }
   ],
   "source": [
    "data = np.random.randn(100000,1)\n",
    "fig, ax = plt.subplots()\n",
    "ax.hist(data, bins = 200, color = 'b')\n",
    "plt.show()"
   ]
  },
  {
   "cell_type": "code",
   "execution_count": 49,
   "id": "3be53039",
   "metadata": {},
   "outputs": [
    {
     "data": {
      "text/html": [
       "<div>\n",
       "<style scoped>\n",
       "    .dataframe tbody tr th:only-of-type {\n",
       "        vertical-align: middle;\n",
       "    }\n",
       "\n",
       "    .dataframe tbody tr th {\n",
       "        vertical-align: top;\n",
       "    }\n",
       "\n",
       "    .dataframe thead th {\n",
       "        text-align: right;\n",
       "    }\n",
       "</style>\n",
       "<table border=\"1\" class=\"dataframe\">\n",
       "  <thead>\n",
       "    <tr style=\"text-align: right;\">\n",
       "      <th></th>\n",
       "      <th>open</th>\n",
       "      <th>high</th>\n",
       "      <th>low</th>\n",
       "      <th>close</th>\n",
       "      <th>volume</th>\n",
       "      <th>Name</th>\n",
       "    </tr>\n",
       "    <tr>\n",
       "      <th>date</th>\n",
       "      <th></th>\n",
       "      <th></th>\n",
       "      <th></th>\n",
       "      <th></th>\n",
       "      <th></th>\n",
       "      <th></th>\n",
       "    </tr>\n",
       "  </thead>\n",
       "  <tbody>\n",
       "    <tr>\n",
       "      <th>2013-02-08</th>\n",
       "      <td>67.7142</td>\n",
       "      <td>68.4014</td>\n",
       "      <td>66.8928</td>\n",
       "      <td>67.8542</td>\n",
       "      <td>158168416</td>\n",
       "      <td>AAPL</td>\n",
       "    </tr>\n",
       "    <tr>\n",
       "      <th>2013-02-11</th>\n",
       "      <td>68.0714</td>\n",
       "      <td>69.2771</td>\n",
       "      <td>67.6071</td>\n",
       "      <td>68.5614</td>\n",
       "      <td>129029425</td>\n",
       "      <td>AAPL</td>\n",
       "    </tr>\n",
       "    <tr>\n",
       "      <th>2013-02-12</th>\n",
       "      <td>68.5014</td>\n",
       "      <td>68.9114</td>\n",
       "      <td>66.8205</td>\n",
       "      <td>66.8428</td>\n",
       "      <td>151829363</td>\n",
       "      <td>AAPL</td>\n",
       "    </tr>\n",
       "    <tr>\n",
       "      <th>2013-02-13</th>\n",
       "      <td>66.7442</td>\n",
       "      <td>67.6628</td>\n",
       "      <td>66.1742</td>\n",
       "      <td>66.7156</td>\n",
       "      <td>118721995</td>\n",
       "      <td>AAPL</td>\n",
       "    </tr>\n",
       "    <tr>\n",
       "      <th>2013-02-14</th>\n",
       "      <td>66.3599</td>\n",
       "      <td>67.3771</td>\n",
       "      <td>66.2885</td>\n",
       "      <td>66.6556</td>\n",
       "      <td>88809154</td>\n",
       "      <td>AAPL</td>\n",
       "    </tr>\n",
       "    <tr>\n",
       "      <th>2013-02-15</th>\n",
       "      <td>66.9785</td>\n",
       "      <td>67.1656</td>\n",
       "      <td>65.7028</td>\n",
       "      <td>65.7371</td>\n",
       "      <td>97924631</td>\n",
       "      <td>AAPL</td>\n",
       "    </tr>\n",
       "    <tr>\n",
       "      <th>2013-02-19</th>\n",
       "      <td>65.8714</td>\n",
       "      <td>66.1042</td>\n",
       "      <td>64.8356</td>\n",
       "      <td>65.7128</td>\n",
       "      <td>108854046</td>\n",
       "      <td>AAPL</td>\n",
       "    </tr>\n",
       "    <tr>\n",
       "      <th>2013-02-20</th>\n",
       "      <td>65.3842</td>\n",
       "      <td>65.3842</td>\n",
       "      <td>64.1142</td>\n",
       "      <td>64.1214</td>\n",
       "      <td>118891367</td>\n",
       "      <td>AAPL</td>\n",
       "    </tr>\n",
       "    <tr>\n",
       "      <th>2013-02-21</th>\n",
       "      <td>63.7142</td>\n",
       "      <td>64.1671</td>\n",
       "      <td>63.2599</td>\n",
       "      <td>63.7228</td>\n",
       "      <td>111596821</td>\n",
       "      <td>AAPL</td>\n",
       "    </tr>\n",
       "    <tr>\n",
       "      <th>2013-02-22</th>\n",
       "      <td>64.1785</td>\n",
       "      <td>64.5142</td>\n",
       "      <td>63.7999</td>\n",
       "      <td>64.4014</td>\n",
       "      <td>82583823</td>\n",
       "      <td>AAPL</td>\n",
       "    </tr>\n",
       "    <tr>\n",
       "      <th>2013-02-25</th>\n",
       "      <td>64.8356</td>\n",
       "      <td>65.0171</td>\n",
       "      <td>63.2242</td>\n",
       "      <td>63.2571</td>\n",
       "      <td>92899597</td>\n",
       "      <td>AAPL</td>\n",
       "    </tr>\n",
       "    <tr>\n",
       "      <th>2013-02-26</th>\n",
       "      <td>63.4028</td>\n",
       "      <td>64.5056</td>\n",
       "      <td>62.5228</td>\n",
       "      <td>64.1385</td>\n",
       "      <td>125096657</td>\n",
       "      <td>AAPL</td>\n",
       "    </tr>\n",
       "    <tr>\n",
       "      <th>2013-02-27</th>\n",
       "      <td>64.0614</td>\n",
       "      <td>64.6342</td>\n",
       "      <td>62.9499</td>\n",
       "      <td>63.5099</td>\n",
       "      <td>146674682</td>\n",
       "      <td>AAPL</td>\n",
       "    </tr>\n",
       "    <tr>\n",
       "      <th>2013-02-28</th>\n",
       "      <td>63.4357</td>\n",
       "      <td>63.9814</td>\n",
       "      <td>63.0571</td>\n",
       "      <td>63.0571</td>\n",
       "      <td>80532382</td>\n",
       "      <td>AAPL</td>\n",
       "    </tr>\n",
       "    <tr>\n",
       "      <th>2013-03-01</th>\n",
       "      <td>62.5714</td>\n",
       "      <td>62.5971</td>\n",
       "      <td>61.4257</td>\n",
       "      <td>61.4957</td>\n",
       "      <td>137899041</td>\n",
       "      <td>AAPL</td>\n",
       "    </tr>\n",
       "    <tr>\n",
       "      <th>2013-03-04</th>\n",
       "      <td>61.1142</td>\n",
       "      <td>61.1714</td>\n",
       "      <td>59.8571</td>\n",
       "      <td>60.0071</td>\n",
       "      <td>145406366</td>\n",
       "      <td>AAPL</td>\n",
       "    </tr>\n",
       "    <tr>\n",
       "      <th>2013-03-05</th>\n",
       "      <td>60.2114</td>\n",
       "      <td>62.1699</td>\n",
       "      <td>60.1071</td>\n",
       "      <td>61.5919</td>\n",
       "      <td>159298020</td>\n",
       "      <td>AAPL</td>\n",
       "    </tr>\n",
       "    <tr>\n",
       "      <th>2013-03-06</th>\n",
       "      <td>62.0728</td>\n",
       "      <td>62.1785</td>\n",
       "      <td>60.6328</td>\n",
       "      <td>60.8088</td>\n",
       "      <td>114903180</td>\n",
       "      <td>AAPL</td>\n",
       "    </tr>\n",
       "    <tr>\n",
       "      <th>2013-03-07</th>\n",
       "      <td>60.6428</td>\n",
       "      <td>61.7157</td>\n",
       "      <td>60.1514</td>\n",
       "      <td>61.5117</td>\n",
       "      <td>116992841</td>\n",
       "      <td>AAPL</td>\n",
       "    </tr>\n",
       "    <tr>\n",
       "      <th>2013-03-08</th>\n",
       "      <td>61.3999</td>\n",
       "      <td>62.2042</td>\n",
       "      <td>61.2299</td>\n",
       "      <td>61.6742</td>\n",
       "      <td>97854442</td>\n",
       "      <td>AAPL</td>\n",
       "    </tr>\n",
       "  </tbody>\n",
       "</table>\n",
       "</div>"
      ],
      "text/plain": [
       "               open     high      low    close     volume  Name\n",
       "date                                                           \n",
       "2013-02-08  67.7142  68.4014  66.8928  67.8542  158168416  AAPL\n",
       "2013-02-11  68.0714  69.2771  67.6071  68.5614  129029425  AAPL\n",
       "2013-02-12  68.5014  68.9114  66.8205  66.8428  151829363  AAPL\n",
       "2013-02-13  66.7442  67.6628  66.1742  66.7156  118721995  AAPL\n",
       "2013-02-14  66.3599  67.3771  66.2885  66.6556   88809154  AAPL\n",
       "2013-02-15  66.9785  67.1656  65.7028  65.7371   97924631  AAPL\n",
       "2013-02-19  65.8714  66.1042  64.8356  65.7128  108854046  AAPL\n",
       "2013-02-20  65.3842  65.3842  64.1142  64.1214  118891367  AAPL\n",
       "2013-02-21  63.7142  64.1671  63.2599  63.7228  111596821  AAPL\n",
       "2013-02-22  64.1785  64.5142  63.7999  64.4014   82583823  AAPL\n",
       "2013-02-25  64.8356  65.0171  63.2242  63.2571   92899597  AAPL\n",
       "2013-02-26  63.4028  64.5056  62.5228  64.1385  125096657  AAPL\n",
       "2013-02-27  64.0614  64.6342  62.9499  63.5099  146674682  AAPL\n",
       "2013-02-28  63.4357  63.9814  63.0571  63.0571   80532382  AAPL\n",
       "2013-03-01  62.5714  62.5971  61.4257  61.4957  137899041  AAPL\n",
       "2013-03-04  61.1142  61.1714  59.8571  60.0071  145406366  AAPL\n",
       "2013-03-05  60.2114  62.1699  60.1071  61.5919  159298020  AAPL\n",
       "2013-03-06  62.0728  62.1785  60.6328  60.8088  114903180  AAPL\n",
       "2013-03-07  60.6428  61.7157  60.1514  61.5117  116992841  AAPL\n",
       "2013-03-08  61.3999  62.2042  61.2299  61.6742   97854442  AAPL"
      ]
     },
     "execution_count": 49,
     "metadata": {},
     "output_type": "execute_result"
    }
   ],
   "source": [
    "df = pd.read_csv('AAPL_data.csv',index_col=0,parse_dates = True)\n",
    "df.head(20)"
   ]
  },
  {
   "cell_type": "code",
   "execution_count": 50,
   "id": "232fbd73",
   "metadata": {},
   "outputs": [
    {
     "data": {
      "text/html": [
       "<div>\n",
       "<style scoped>\n",
       "    .dataframe tbody tr th:only-of-type {\n",
       "        vertical-align: middle;\n",
       "    }\n",
       "\n",
       "    .dataframe tbody tr th {\n",
       "        vertical-align: top;\n",
       "    }\n",
       "\n",
       "    .dataframe thead th {\n",
       "        text-align: right;\n",
       "    }\n",
       "</style>\n",
       "<table border=\"1\" class=\"dataframe\">\n",
       "  <thead>\n",
       "    <tr style=\"text-align: right;\">\n",
       "      <th></th>\n",
       "      <th>open</th>\n",
       "      <th>high</th>\n",
       "      <th>low</th>\n",
       "      <th>close</th>\n",
       "      <th>volume</th>\n",
       "      <th>Name</th>\n",
       "    </tr>\n",
       "    <tr>\n",
       "      <th>date</th>\n",
       "      <th></th>\n",
       "      <th></th>\n",
       "      <th></th>\n",
       "      <th></th>\n",
       "      <th></th>\n",
       "      <th></th>\n",
       "    </tr>\n",
       "  </thead>\n",
       "  <tbody>\n",
       "    <tr>\n",
       "      <th>2015-01-02</th>\n",
       "      <td>111.39</td>\n",
       "      <td>111.44</td>\n",
       "      <td>107.3500</td>\n",
       "      <td>109.33</td>\n",
       "      <td>53204626</td>\n",
       "      <td>AAPL</td>\n",
       "    </tr>\n",
       "    <tr>\n",
       "      <th>2015-01-05</th>\n",
       "      <td>108.29</td>\n",
       "      <td>108.65</td>\n",
       "      <td>105.4100</td>\n",
       "      <td>106.25</td>\n",
       "      <td>64285491</td>\n",
       "      <td>AAPL</td>\n",
       "    </tr>\n",
       "    <tr>\n",
       "      <th>2015-01-06</th>\n",
       "      <td>106.54</td>\n",
       "      <td>107.43</td>\n",
       "      <td>104.6300</td>\n",
       "      <td>106.26</td>\n",
       "      <td>65797116</td>\n",
       "      <td>AAPL</td>\n",
       "    </tr>\n",
       "    <tr>\n",
       "      <th>2015-01-07</th>\n",
       "      <td>107.20</td>\n",
       "      <td>108.20</td>\n",
       "      <td>106.6950</td>\n",
       "      <td>107.75</td>\n",
       "      <td>40105934</td>\n",
       "      <td>AAPL</td>\n",
       "    </tr>\n",
       "    <tr>\n",
       "      <th>2015-01-08</th>\n",
       "      <td>109.23</td>\n",
       "      <td>112.15</td>\n",
       "      <td>108.7000</td>\n",
       "      <td>111.89</td>\n",
       "      <td>59364547</td>\n",
       "      <td>AAPL</td>\n",
       "    </tr>\n",
       "    <tr>\n",
       "      <th>...</th>\n",
       "      <td>...</td>\n",
       "      <td>...</td>\n",
       "      <td>...</td>\n",
       "      <td>...</td>\n",
       "      <td>...</td>\n",
       "      <td>...</td>\n",
       "    </tr>\n",
       "    <tr>\n",
       "      <th>2015-12-24</th>\n",
       "      <td>109.00</td>\n",
       "      <td>109.00</td>\n",
       "      <td>107.9500</td>\n",
       "      <td>108.03</td>\n",
       "      <td>13596680</td>\n",
       "      <td>AAPL</td>\n",
       "    </tr>\n",
       "    <tr>\n",
       "      <th>2015-12-28</th>\n",
       "      <td>107.59</td>\n",
       "      <td>107.69</td>\n",
       "      <td>106.1807</td>\n",
       "      <td>106.82</td>\n",
       "      <td>26704210</td>\n",
       "      <td>AAPL</td>\n",
       "    </tr>\n",
       "    <tr>\n",
       "      <th>2015-12-29</th>\n",
       "      <td>106.96</td>\n",
       "      <td>109.43</td>\n",
       "      <td>106.8600</td>\n",
       "      <td>108.74</td>\n",
       "      <td>30931243</td>\n",
       "      <td>AAPL</td>\n",
       "    </tr>\n",
       "    <tr>\n",
       "      <th>2015-12-30</th>\n",
       "      <td>108.58</td>\n",
       "      <td>108.70</td>\n",
       "      <td>107.1800</td>\n",
       "      <td>107.32</td>\n",
       "      <td>25213777</td>\n",
       "      <td>AAPL</td>\n",
       "    </tr>\n",
       "    <tr>\n",
       "      <th>2015-12-31</th>\n",
       "      <td>107.01</td>\n",
       "      <td>107.03</td>\n",
       "      <td>104.8200</td>\n",
       "      <td>105.26</td>\n",
       "      <td>40912316</td>\n",
       "      <td>AAPL</td>\n",
       "    </tr>\n",
       "  </tbody>\n",
       "</table>\n",
       "<p>252 rows × 6 columns</p>\n",
       "</div>"
      ],
      "text/plain": [
       "              open    high       low   close    volume  Name\n",
       "date                                                        \n",
       "2015-01-02  111.39  111.44  107.3500  109.33  53204626  AAPL\n",
       "2015-01-05  108.29  108.65  105.4100  106.25  64285491  AAPL\n",
       "2015-01-06  106.54  107.43  104.6300  106.26  65797116  AAPL\n",
       "2015-01-07  107.20  108.20  106.6950  107.75  40105934  AAPL\n",
       "2015-01-08  109.23  112.15  108.7000  111.89  59364547  AAPL\n",
       "...            ...     ...       ...     ...       ...   ...\n",
       "2015-12-24  109.00  109.00  107.9500  108.03  13596680  AAPL\n",
       "2015-12-28  107.59  107.69  106.1807  106.82  26704210  AAPL\n",
       "2015-12-29  106.96  109.43  106.8600  108.74  30931243  AAPL\n",
       "2015-12-30  108.58  108.70  107.1800  107.32  25213777  AAPL\n",
       "2015-12-31  107.01  107.03  104.8200  105.26  40912316  AAPL\n",
       "\n",
       "[252 rows x 6 columns]"
      ]
     },
     "execution_count": 50,
     "metadata": {},
     "output_type": "execute_result"
    }
   ],
   "source": [
    "df1=df.loc['2015']\n",
    "df1"
   ]
  },
  {
   "cell_type": "code",
   "execution_count": 51,
   "id": "8c20a388",
   "metadata": {},
   "outputs": [],
   "source": [
    "a=((df1[\"high\"]-df1[\"low\"])/df1[\"low\"])*100"
   ]
  },
  {
   "cell_type": "code",
   "execution_count": 52,
   "id": "c69a8580",
   "metadata": {},
   "outputs": [
    {
     "data": {
      "text/plain": [
       "date\n",
       "2015-01-02    3.809967\n",
       "2015-01-05    3.073712\n",
       "2015-01-06    2.676097\n",
       "2015-01-07    1.410563\n",
       "2015-01-08    3.173873\n",
       "                ...   \n",
       "2015-12-24    0.972673\n",
       "2015-12-28    1.421445\n",
       "2015-12-29    2.405016\n",
       "2015-12-30    1.418175\n",
       "2015-12-31    2.108376\n",
       "Length: 252, dtype: float64"
      ]
     },
     "execution_count": 52,
     "metadata": {},
     "output_type": "execute_result"
    }
   ],
   "source": [
    "a"
   ]
  },
  {
   "cell_type": "code",
   "execution_count": 53,
   "id": "60505dd5",
   "metadata": {},
   "outputs": [
    {
     "data": {
      "text/plain": [
       "array([ 3.8099674 ,  3.07371217,  2.67609672,  1.41056282,  3.17387305,\n",
       "        2.75837038,  3.52022059,  3.5717565 ,  1.83410138,  3.18769923,\n",
       "        2.26235741,  2.31615023,  2.57689111,  2.50637988,  1.99049583,\n",
       "        1.38528369,  3.16426672,  2.4369092 ,  3.14122534,  2.6957638 ,\n",
       "        2.66195727,  1.25839639,  1.86038256,  0.82180294,  1.51962854,\n",
       "        1.19057671,  1.65612517,  1.9755102 ,  1.52106395,  1.29725428,\n",
       "        1.54427986,  1.04354649,  0.54546871,  1.13237017,  2.57596792,\n",
       "        1.85255775,  2.69215763,  3.36466314,  1.8169058 ,  1.54325799,\n",
       "        1.11640253,  0.96633416,  2.37754453,  2.46317123,  3.60626899,\n",
       "        2.76252019,  2.17836377,  2.68848146,  2.29654103,  1.6928461 ,\n",
       "        1.32908874,  2.20780248,  1.44827316,  2.58868648,  1.0512172 ,\n",
       "        1.16940582,  2.78813422,  1.85970636,  1.45635017,  1.93548387,\n",
       "        1.71685899,  1.64094232,  1.1031484 ,  2.55770932,  1.70011113,\n",
       "        1.14427463,  1.54018931,  1.55676194,  1.54806097,  1.09602097,\n",
       "        0.88881835,  0.78502894,  1.34983127,  2.35679476,  1.20786295,\n",
       "        2.01868271,  1.77930389,  1.08333978,  1.50972169,  3.83576445,\n",
       "        2.56430242,  2.64890031,  3.8547486 ,  1.80102916,  2.12259501,\n",
       "        2.74805447,  1.66102242,  1.19736738,  1.54029851,  1.65037654,\n",
       "        1.04870104,  1.40767537,  0.99836206,  1.838579  ,  0.95649491,\n",
       "        1.26797588,  1.38642841,  1.19482496,  2.93525403,  1.69934641,\n",
       "        0.64836003,  1.19322556,  1.03037293,  1.03232292,  0.80061586,\n",
       "        1.29547746,  1.03614833,  1.87652764,  1.9582869 ,  1.16542824,\n",
       "        1.32710644,  0.9597986 ,  1.21708695,  1.17116404,  0.89947925,\n",
       "        0.85678352,  1.12341772,  0.77116777,  0.57598093,  2.10824418,\n",
       "        1.33333333,  1.16986799,  1.59865039,  1.00913023,  0.7540281 ,\n",
       "        0.731494  ,  1.10532639,  1.92292155,  1.71372613,  4.05972152,\n",
       "        2.17803812,  1.15427928,  1.06365963,  1.25019908,  0.95798979,\n",
       "        1.02096485,  1.73680184,  1.99508901,  2.87728502,  1.62322085,\n",
       "        1.4850686 ,  1.22011137,  1.10975112,  1.00597039,  0.70651549,\n",
       "        1.43288396,  4.29714091,  3.92935982,  4.76360393,  2.08999693,\n",
       "        1.52838428,  2.96919248,  4.27953763,  5.28140108,  1.62388685,\n",
       "        2.0173669 ,  1.86147186,  1.23265236,  1.6044646 ,  2.43662098,\n",
       "        5.9207724 , 18.26086957,  7.352657  ,  4.60732984,  2.92674059,\n",
       "        1.58687466,  2.25892857,  4.21013413,  2.9405027 ,  2.49000364,\n",
       "        1.78785365,  2.03045685,  3.8717318 ,  3.077798  ,  2.19219757,\n",
       "        1.76736897,  1.8440832 ,  0.95287595,  2.4403113 ,  2.17216412,\n",
       "        1.50448707,  1.4752031 ,  1.2533098 ,  2.78544095,  2.34169444,\n",
       "        1.89434365,  5.23827183,  2.58438333,  2.15264188,  3.2204556 ,\n",
       "        2.10855414,  1.7992985 ,  2.15702404,  1.82977544,  2.54817792,\n",
       "        1.17552046,  1.59920492,  1.78897408,  1.45714544,  1.32995567,\n",
       "        1.48941967,  3.02292005,  1.65347405,  1.22699387,  2.49118886,\n",
       "        2.79324748,  2.23703834,  2.79165949,  2.04616555,  1.48179154,\n",
       "        1.46308837,  2.31151616,  1.80891301,  2.08853387,  0.98656939,\n",
       "        1.46605581,  1.73098629,  1.91823626,  1.01167315,  2.93934266,\n",
       "        2.91891892,  1.52665019,  1.72294372,  2.5608085 ,  0.90029449,\n",
       "        2.03681609,  1.90403005,  1.11092266,  0.68877551,  1.40976645,\n",
       "        1.66866336,  1.74879394,  2.25004378,  3.59655981,  1.74008998,\n",
       "        1.48896115,  2.26798749,  1.23798805,  2.2498693 ,  2.63229802,\n",
       "        2.22020843,  2.93198529,  3.00055056,  3.50628485,  1.70502984,\n",
       "        1.19209777,  1.5391791 ,  0.97267253,  1.42144476,  2.40501591,\n",
       "        1.41817503,  2.10837626])"
      ]
     },
     "execution_count": 53,
     "metadata": {},
     "output_type": "execute_result"
    }
   ],
   "source": [
    "a.index\n",
    "a.values"
   ]
  },
  {
   "cell_type": "code",
   "execution_count": 70,
   "id": "59fafa5d",
   "metadata": {},
   "outputs": [
    {
     "data": {
      "image/png": "[encoded data removed]",
      "text/plain": [
       "<Figure size 432x288 with 3 Axes>"
      ]
     },
     "metadata": {
      "needs_background": "light"
     },
     "output_type": "display_data"
    }
   ],
   "source": [
    "import matplotlib.pyplot as plt\n",
    "fig, ax = plt.subplots(3,1,sharex = True)\n",
    "ax[0].plot(a.index,a.values,color=\"b\")\n",
    "ax[1].bar(df1['volume'].index,df1['volume'].values,color=\"r\")\n",
    "ax[2].plot(df1['close'].index,df1['close'].values,color=\"k\")\n",
    "plt.show()"
   ]
  },
  {
   "cell_type": "code",
   "execution_count": 58,
   "id": "67c840df",
   "metadata": {},
   "outputs": [
    {
     "data": {
      "text/plain": [
       "date\n",
       "2015-01-02    53204626\n",
       "2015-01-05    64285491\n",
       "2015-01-06    65797116\n",
       "2015-01-07    40105934\n",
       "2015-01-08    59364547\n",
       "                ...   \n",
       "2015-12-24    13596680\n",
       "2015-12-28    26704210\n",
       "2015-12-29    30931243\n",
       "2015-12-30    25213777\n",
       "2015-12-31    40912316\n",
       "Name: volume, Length: 252, dtype: int64"
      ]
     },
     "execution_count": 58,
     "metadata": {},
     "output_type": "execute_result"
    }
   ],
   "source": [
    "\n"
   ]
  },
  {
   "cell_type": "code",
   "execution_count": 8,
   "id": "a1ecb19e",
   "metadata": {},
   "outputs": [
    {
     "data": {
      "text/html": [
       "<div>\n",
       "<style scoped>\n",
       "    .dataframe tbody tr th:only-of-type {\n",
       "        vertical-align: middle;\n",
       "    }\n",
       "\n",
       "    .dataframe tbody tr th {\n",
       "        vertical-align: top;\n",
       "    }\n",
       "\n",
       "    .dataframe thead th {\n",
       "        text-align: right;\n",
       "    }\n",
       "</style>\n",
       "<table border=\"1\" class=\"dataframe\">\n",
       "  <thead>\n",
       "    <tr style=\"text-align: right;\">\n",
       "      <th></th>\n",
       "      <th>City</th>\n",
       "      <th>Edition</th>\n",
       "      <th>Sport</th>\n",
       "      <th>Discipline</th>\n",
       "      <th>Athlete</th>\n",
       "      <th>NOC</th>\n",
       "      <th>Gender</th>\n",
       "      <th>Event</th>\n",
       "      <th>Event_gender</th>\n",
       "      <th>Medal</th>\n",
       "    </tr>\n",
       "  </thead>\n",
       "  <tbody>\n",
       "    <tr>\n",
       "      <th>0</th>\n",
       "      <td>Athens</td>\n",
       "      <td>1896</td>\n",
       "      <td>Aquatics</td>\n",
       "      <td>Swimming</td>\n",
       "      <td>HAJOS, Alfred</td>\n",
       "      <td>HUN</td>\n",
       "      <td>Men</td>\n",
       "      <td>100m freestyle</td>\n",
       "      <td>M</td>\n",
       "      <td>Gold</td>\n",
       "    </tr>\n",
       "    <tr>\n",
       "      <th>1</th>\n",
       "      <td>Athens</td>\n",
       "      <td>1896</td>\n",
       "      <td>Aquatics</td>\n",
       "      <td>Swimming</td>\n",
       "      <td>HERSCHMANN, Otto</td>\n",
       "      <td>AUT</td>\n",
       "      <td>Men</td>\n",
       "      <td>100m freestyle</td>\n",
       "      <td>M</td>\n",
       "      <td>Silver</td>\n",
       "    </tr>\n",
       "    <tr>\n",
       "      <th>2</th>\n",
       "      <td>Athens</td>\n",
       "      <td>1896</td>\n",
       "      <td>Aquatics</td>\n",
       "      <td>Swimming</td>\n",
       "      <td>DRIVAS, Dimitrios</td>\n",
       "      <td>GRE</td>\n",
       "      <td>Men</td>\n",
       "      <td>100m freestyle for sailors</td>\n",
       "      <td>M</td>\n",
       "      <td>Bronze</td>\n",
       "    </tr>\n",
       "    <tr>\n",
       "      <th>3</th>\n",
       "      <td>Athens</td>\n",
       "      <td>1896</td>\n",
       "      <td>Aquatics</td>\n",
       "      <td>Swimming</td>\n",
       "      <td>MALOKINIS, Ioannis</td>\n",
       "      <td>GRE</td>\n",
       "      <td>Men</td>\n",
       "      <td>100m freestyle for sailors</td>\n",
       "      <td>M</td>\n",
       "      <td>Gold</td>\n",
       "    </tr>\n",
       "    <tr>\n",
       "      <th>4</th>\n",
       "      <td>Athens</td>\n",
       "      <td>1896</td>\n",
       "      <td>Aquatics</td>\n",
       "      <td>Swimming</td>\n",
       "      <td>CHASAPIS, Spiridon</td>\n",
       "      <td>GRE</td>\n",
       "      <td>Men</td>\n",
       "      <td>100m freestyle for sailors</td>\n",
       "      <td>M</td>\n",
       "      <td>Silver</td>\n",
       "    </tr>\n",
       "  </tbody>\n",
       "</table>\n",
       "</div>"
      ],
      "text/plain": [
       "     City  Edition     Sport Discipline             Athlete  NOC Gender  \\\n",
       "0  Athens     1896  Aquatics   Swimming       HAJOS, Alfred  HUN    Men   \n",
       "1  Athens     1896  Aquatics   Swimming    HERSCHMANN, Otto  AUT    Men   \n",
       "2  Athens     1896  Aquatics   Swimming   DRIVAS, Dimitrios  GRE    Men   \n",
       "3  Athens     1896  Aquatics   Swimming  MALOKINIS, Ioannis  GRE    Men   \n",
       "4  Athens     1896  Aquatics   Swimming  CHASAPIS, Spiridon  GRE    Men   \n",
       "\n",
       "                        Event Event_gender   Medal  \n",
       "0              100m freestyle            M    Gold  \n",
       "1              100m freestyle            M  Silver  \n",
       "2  100m freestyle for sailors            M  Bronze  \n",
       "3  100m freestyle for sailors            M    Gold  \n",
       "4  100m freestyle for sailors            M  Silver  "
      ]
     },
     "execution_count": 8,
     "metadata": {},
     "output_type": "execute_result"
    }
   ],
   "source": [
    "import pandas as pd\n",
    "import matplotlib.pyplot as plt\n",
    "\n",
    "medals = pd.read_csv('all_medalists.csv', header = 0)\n",
    "medals.columns = medals.columns.str.strip()\n",
    "medals.head()"
   ]
  },
  {
   "cell_type": "code",
   "execution_count": 6,
   "id": "a95dee6a",
   "metadata": {},
   "outputs": [
    {
     "data": {
      "text/plain": [
       "Index(['Edition', 'Sport', 'Discipline', 'Athlete', 'NOC', 'Gender', 'Event',\n",
       "       'Event_gender', 'Medal'],\n",
       "      dtype='object')"
      ]
     },
     "execution_count": 6,
     "metadata": {},
     "output_type": "execute_result"
    }
   ],
   "source": [
    "medals.columns"
   ]
  },
  {
   "cell_type": "code",
   "execution_count": 12,
   "id": "af7a61b9",
   "metadata": {},
   "outputs": [],
   "source": [
    "df2 = medals['City'].value_counts()"
   ]
  },
  {
   "cell_type": "code",
   "execution_count": 13,
   "id": "c376ce07",
   "metadata": {},
   "outputs": [
    {
     "data": {
      "text/plain": [
       "Athens                   2149\n",
       "Los Angeles              2074\n",
       "Beijing                  2042\n",
       "Sydney                   2015\n",
       "Atlanta                  1859\n",
       "Barcelona                1705\n",
       "London                   1618\n",
       "Seoul                    1546\n",
       "Paris                    1396\n",
       "Moscow                   1387\n",
       "Montreal                 1305\n",
       "Antwerp                  1298\n",
       "Munich                   1185\n",
       "Mexico                   1031\n",
       "Tokyo                    1010\n",
       "Helsinki                  889\n",
       "Stockholm                 885\n",
       "Melbourne / Stockholm     885\n",
       "Rome                      882\n",
       "Berlin                    875\n",
       "Amsterdam                 710\n",
       "St Louis                  470\n",
       "Name: City, dtype: int64"
      ]
     },
     "execution_count": 13,
     "metadata": {},
     "output_type": "execute_result"
    }
   ],
   "source": [
    "df2"
   ]
  },
  {
   "cell_type": "code",
   "execution_count": 16,
   "id": "8cd95275",
   "metadata": {},
   "outputs": [
    {
     "name": "stdout",
     "output_type": "stream",
     "text": [
      "[2149 2074 2042 2015 1859 1705 1618 1546 1396 1387 1305 1298 1185 1031\n",
      " 1010  889  885  885  882  875  710  470]\n",
      "Index(['Athens', 'Los Angeles', 'Beijing', 'Sydney', 'Atlanta', 'Barcelona',\n",
      "       'London', 'Seoul', 'Paris', 'Moscow', 'Montreal', 'Antwerp', 'Munich',\n",
      "       'Mexico', 'Tokyo', 'Helsinki', 'Stockholm', 'Melbourne / Stockholm',\n",
      "       'Rome', 'Berlin', 'Amsterdam', 'St Louis'],\n",
      "      dtype='object')\n"
     ]
    }
   ],
   "source": [
    "print(df2.values)\n",
    "print(df2.index)"
   ]
  },
  {
   "cell_type": "code",
   "execution_count": 21,
   "id": "4c439730",
   "metadata": {},
   "outputs": [
    {
     "name": "stderr",
     "output_type": "stream",
     "text": [
      "<ipython-input-21-85a1484a68ec>:3: UserWarning: FixedFormatter should only be used together with FixedLocator\n",
      "  ax.set_xticklabels(df2.index, rotation = 90)\n"
     ]
    },
    {
     "data": {
      "image/png": "[encoded data removed]",
      "text/plain": [
       "<Figure size 432x288 with 1 Axes>"
      ]
     },
     "metadata": {
      "needs_background": "light"
     },
     "output_type": "display_data"
    }
   ],
   "source": [
    "fig, ax = plt.subplots()\n",
    "ax.bar(df2.index, df2.values)\n",
    "ax.set_xticklabels(df2.index, rotation = 90)\n",
    "plt.show()"
   ]
  },
  {
   "cell_type": "code",
   "execution_count": null,
   "id": "14652b44",
   "metadata": {},
   "outputs": [],
   "source": []
  }
 ],
 "metadata": {
  "kernelspec": {
   "display_name": "Python 3",
   "language": "python",
   "name": "python3"
  },
  "language_info": {
   "codemirror_mode": {
    "name": "ipython",
    "version": 3
   },
   "file_extension": ".py",
   "mimetype": "text/x-python",
   "name": "python",
   "nbconvert_exporter": "python",
   "pygments_lexer": "ipython3",
   "version": "3.8.8"
  }
 },
 "nbformat": 4,
 "nbformat_minor": 5
}
