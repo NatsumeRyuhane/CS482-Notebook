{
 "cells": [
  {
   "cell_type": "markdown",
   "metadata": {},
   "source": [
    "## Python Operators: `is` vs `==`"
   ]
  },
  {
   "cell_type": "markdown",
   "metadata": {},
   "source": [
    "Many may confuse `is` operator with `==` operator, as they share a very similar functionality, as the following code demonstrates:"
   ]
  },
  {
   "cell_type": "code",
   "execution_count": 1,
   "metadata": {},
   "outputs": [
    {
     "name": "stdout",
     "output_type": "stream",
     "text": [
      "True\n",
      "True\n"
     ]
    }
   ],
   "source": [
    "a = 63\n",
    "b = 63\n",
    "print(a == b)\n",
    "print(a is b)"
   ]
  },
  {
   "cell_type": "code",
   "execution_count": 2,
   "metadata": {},
   "outputs": [
    {
     "name": "stdout",
     "output_type": "stream",
     "text": [
      "True\n",
      "True\n"
     ]
    }
   ],
   "source": [
    "null = None\n",
    "null is None\n",
    "print(null == None)\n",
    "print(null is None)"
   ]
  },
  {
   "cell_type": "markdown",
   "metadata": {},
   "source": [
    "However, mixing these two operators, while it is running fine in the examples we gave above, may cause problems in other cases:"
   ]
  },
  {
   "cell_type": "code",
   "execution_count": 3,
   "metadata": {},
   "outputs": [
    {
     "name": "stdout",
     "output_type": "stream",
     "text": [
      "True\n",
      "False\n"
     ]
    }
   ],
   "source": [
    "c = 65535\n",
    "d = 65535\n",
    "print(c == d)\n",
    "print(c is d)"
   ]
  },
  {
   "cell_type": "code",
   "execution_count": 4,
   "metadata": {},
   "outputs": [
    {
     "name": "stdout",
     "output_type": "stream",
     "text": [
      "False\n",
      "False\n",
      "True\n",
      "True\n"
     ]
    }
   ],
   "source": [
    "class MyClass:\n",
    "    \n",
    "    def __init__(self, name: str) -> None:\n",
    "        self.name = name\n",
    "        \n",
    "e = MyClass('Hello')\n",
    "f = MyClass('Hello')\n",
    "print(e == f)   # watch closely for the output of this line\n",
    "print(e is f)\n",
    "\n",
    "e = f   # watch the change of output after this line executed\n",
    "print(e == f)\n",
    "print(e is f)"
   ]
  },
  {
   "cell_type": "markdown",
   "metadata": {},
   "source": [
    "The reason of such behavior is that these two operators are running on completely different methods to derive a result.\n",
    "\n",
    "As the [Python 3.10.7 documentation chapter 3, section 1](https://docs.python.org/3/reference/datamodel.html#objects-values-and-types) stated:\n",
    "\n",
    "> Every object has an identity, a type and a value. An object’s identity never changes once it has been created; you may think of it as the object’s address in memory. The `is` operator compares the identity of two objects; the `id()` function returns an integer representing its identity.\n",
    "> \n",
    "> For CPython, id(x) is the memory address where x is stored.\n",
    "> > *Side Notes: class `object` is the base class of the class hierarchy in python, everything in python is an instance of `object`.*\n",
    "\n",
    "For example, let us check the id (in hexadecimal) of `a` and `b`, which `a is b` were evaluated to be `True`, and the id of `c` and `d` as contrasts."
   ]
  },
  {
   "cell_type": "code",
   "execution_count": 5,
   "metadata": {},
   "outputs": [
    {
     "name": "stdout",
     "output_type": "stream",
     "text": [
      "0x100f0c8b0\n",
      "0x100f0c8b0\n",
      "\n",
      "0x10628a6b0\n",
      "0x10628baf0\n"
     ]
    }
   ],
   "source": [
    "print(hex(id(a)))\n",
    "print(hex(id(b)))\n",
    "print() # add a blank\n",
    "print(hex(id(c)))\n",
    "print(hex(id(d)))"
   ]
  },
  {
   "cell_type": "markdown",
   "metadata": {},
   "source": [
    "This reveals that, `a` and `b` are actually references to the same object on memory, while `c` and `d` points to different objects, hence the result of `is` operator differs.\n",
    "\n",
    "The `==` operator, on the other hand, actually calls the `__eq__()` method of the object on the left, passing in the object on the right side as a parameter to evaluate the equality, i.e. `a == b` is equivalent to `a.__eq__(b)`.\n",
    "\n",
    "By the way, The methods like `__eq__()` and `__init__()` are called *magic methods*, or dunder mathods if you do not believe in magic. These methods are the way we do **operator overloading**, including other operators like `>` or `<` in Python."
   ]
  },
  {
   "cell_type": "code",
   "execution_count": 6,
   "metadata": {},
   "outputs": [
    {
     "name": "stdout",
     "output_type": "stream",
     "text": [
      "True\n",
      "False\n",
      "True\n",
      "False\n"
     ]
    }
   ],
   "source": [
    "class myExtendedClass(MyClass):\n",
    "    def __eq__(self, other: object) -> bool:\n",
    "        if isinstance(other, myExtendedClass):\n",
    "            if self.name == other.name: return True\n",
    "        elif self.name == str(other): \n",
    "            return True\n",
    "        \n",
    "        return False\n",
    "        \n",
    "jeff = myExtendedClass(\"Jeff\")\n",
    "dean = myExtendedClass(\"Jeff\")\n",
    "real_dean = myExtendedClass(\"Dean\")\n",
    "print(jeff == \"Jeff\")\n",
    "print(jeff == \"Dean\")\n",
    "print(jeff == dean)\n",
    "print(jeff == real_dean)"
   ]
  },
  {
   "cell_type": "markdown",
   "metadata": {},
   "source": [
    "You may have wondered by now, as you may recall that how we defined variables `a`, `b`, `c` and `d`\n",
    "\n",
    "```python3\n",
    "a = 63\n",
    "b = 63\n",
    "```\n",
    "\n",
    "```python3\n",
    "c = 65535\n",
    "d = 65535\n",
    "```\n",
    "\n",
    "Then, how come `a` and `b` are the refrence to same object, while `c` and `d` are not?\n",
    "\n",
    "That is because, as the Python 3.10.7 implementation does, Python keeps a small cache of small integers as an array, ranged from `-5` to `256`, to speed up the internal calculations considering how frequent these values are used. When you create an int in that range you actually just get back a reference to the existing object. \n",
    "\n",
    "*(Based on [Python 3.10.7 documentation, Python/C API Reference Manual » Concrete Objects Layer » Integer Objects](https://docs.python.org/3/c-api/long.html), `PyObject *PyLong_FromLong(long v)`)*"
   ]
  },
  {
   "cell_type": "code",
   "execution_count": 7,
   "metadata": {},
   "outputs": [
    {
     "name": "stdout",
     "output_type": "stream",
     "text": [
      "True\n",
      "False\n"
     ]
    }
   ],
   "source": [
    "small_int1 = 256\n",
    "small_int2 = 256\n",
    "int3 = 257\n",
    "int4 = 257\n",
    "\n",
    "print(small_int1 is small_int2)\n",
    "print(int3 is int4)"
   ]
  }
 ],
 "metadata": {
  "kernelspec": {
   "display_name": "Python 3",
   "language": "python",
   "name": "python3"
  },
  "language_info": {
   "codemirror_mode": {
    "name": "ipython",
    "version": 3
   },
   "file_extension": ".py",
   "mimetype": "text/x-python",
   "name": "python",
   "nbconvert_exporter": "python",
   "pygments_lexer": "ipython3",
   "version": "3.10.6"
  },
  "vscode": {
   "interpreter": {
    "hash": "aee8b7b246df8f9039afb4144a1f6fd8d2ca17a180786b69acc140d282b71a49"
   }
  }
 },
 "nbformat": 4,
 "nbformat_minor": 2
}
