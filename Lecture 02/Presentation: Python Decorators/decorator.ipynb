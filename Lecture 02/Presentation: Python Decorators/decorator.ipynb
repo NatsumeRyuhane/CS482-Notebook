{
 "cells": [
  {
   "cell_type": "code",
   "execution_count": 1,
   "metadata": {},
   "outputs": [],
   "source": [
    "# dependencies\n",
    "import time\n",
    "\n",
    "# helper function declearation & implementation\n",
    "def displayTime(timestamp: float = None) -> str:\n",
    "    if timestamp is None:\n",
    "        timestamp = time.time()\n",
    "        \n",
    "    return f\"{time.strftime('%Y-%m-%d %H:%M:%S', time.localtime(timestamp))}.{str(timestamp).split('.')[1][:3]}\""
   ]
  },
  {
   "cell_type": "markdown",
   "metadata": {},
   "source": [
    "# Function Decorators in Python\n",
    "\n",
    "*The current method for transforming functions and methods (for instance, declaring them as a class or static method) is awkward and can lead to code that is difficult to understand. Ideally, these transformations should be made at the same point in the code where the declaration itself is made. This PEP introduces new syntax for transformations of a function or method declaration.* - PEP 318\n",
    "\n",
    "\n",
    "A decorator is a **design pattern** that allows a user to add new functionality to an existing object with out modifying its structure.\n",
    "\n",
    "In python, functions are **first-class citizens**, meaning that a function can be: \n",
    "  * assigned to a variable\n",
    "  * being passed as an argument\n",
    "  * being returned by a function\n",
    "\n",
    "Also, python allows us to define a function within a function."
   ]
  },
  {
   "cell_type": "code",
   "execution_count": 2,
   "metadata": {},
   "outputs": [
    {
     "name": "stdout",
     "output_type": "stream",
     "text": [
      "functionA is being called.\n"
     ]
    }
   ],
   "source": [
    "def functionA():\n",
    "    print(\"functionA is being called.\")\n",
    "    \n",
    "someRandomName = functionA\n",
    "someRandomName()"
   ]
  },
  {
   "cell_type": "code",
   "execution_count": 3,
   "metadata": {},
   "outputs": [
    {
     "name": "stdout",
     "output_type": "stream",
     "text": [
      "functionB2 is being called.\n",
      "functionB1 is being called.\n"
     ]
    }
   ],
   "source": [
    "def functionB1():\n",
    "    print(\"functionB1 is being called.\")\n",
    "    \n",
    "def functionB2(function):\n",
    "    print(\"functionB2 is being called.\")\n",
    "    function()\n",
    "    \n",
    "functionB2(functionB1)"
   ]
  },
  {
   "cell_type": "code",
   "execution_count": 4,
   "metadata": {},
   "outputs": [
    {
     "name": "stdout",
     "output_type": "stream",
     "text": [
      "functionC1 is being called.\n",
      "functionC2 is not called... yet.\n",
      "functionC2 is being called.\n"
     ]
    }
   ],
   "source": [
    "def functionC1():\n",
    "    print(\"functionC1 is being called.\")\n",
    "    \n",
    "    def functionC2():\n",
    "        print(\"functionC2 is being called.\")\n",
    "        \n",
    "    print(\"functionC2 is not called... yet.\")\n",
    "    return functionC2\n",
    "\n",
    "newFun = functionC1()\n",
    "newFun()"
   ]
  },
  {
   "cell_type": "markdown",
   "metadata": {},
   "source": [
    "To add extra functionality to a existing function, or to *decorate* that function, our **decorator** could:\n",
    "  * do something extra before the function is called\n",
    "  * call the function, so it can do its own work\n",
    "  * do something after the function had finished working\n",
    "\n",
    "Thus, a decorator is structured like this: "
   ]
  },
  {
   "cell_type": "code",
   "execution_count": 5,
   "metadata": {},
   "outputs": [],
   "source": [
    "def decorate(function_to_decorate):\n",
    "    def wrapper():\n",
    "        # things done before the passed-in function is called\n",
    "        print(\"This function is wrapped! --> \", end = '')\n",
    "        # -------------------\n",
    "        \n",
    "        function_to_decorate()\n",
    "        \n",
    "        # things done after the passed-in function finished execution\n",
    "        print(\"Everything is done! \")\n",
    "        # --------------------\n",
    "\n",
    "    return wrapper"
   ]
  },
  {
   "cell_type": "code",
   "execution_count": 6,
   "metadata": {},
   "outputs": [
    {
     "name": "stdout",
     "output_type": "stream",
     "text": [
      "This function is wrapped! --> functionD1 is being called.\n",
      "Everything is done! \n",
      "This function is wrapped! --> functionD2 is being called.\n",
      "Everything is done! \n"
     ]
    }
   ],
   "source": [
    "def functionD1():\n",
    "    print(\"functionD1 is being called.\")\n",
    "    \n",
    "decoratedD1 = decorate(functionD1)\n",
    "decoratedD1()\n",
    "\n",
    "@decorate\n",
    "def functionD2():\n",
    "    print(\"functionD2 is being called.\")\n",
    "    \n",
    "functionD2()"
   ]
  },
  {
   "cell_type": "markdown",
   "metadata": {},
   "source": [
    "We can also pass arguments to the function we decorated, for example, this logger recognize what arguments are passed in to the function we called:"
   ]
  },
  {
   "cell_type": "code",
   "execution_count": 7,
   "metadata": {},
   "outputs": [],
   "source": [
    "def logger(func):\n",
    "    def loggedFunction(*args, **kwargs):\n",
    "        \n",
    "        # things done before the passed-in function is called\n",
    "        start = time.perf_counter()\n",
    "        print(f\"[{displayTime()}] Function {func.__name__}() started with arguments {str(args), str(kwargs)}\")\n",
    "        # -------------------\n",
    "        \n",
    "        returnedValues = func(*args, **kwargs)\n",
    "        \n",
    "        # things done after the passed-in function finished execution\n",
    "        end = time.perf_counter()\n",
    "        print(f\"[{displayTime()}] Function {func.__name__}() ended with return value {str(returnedValues)}\")\n",
    "        print(f\"[{displayTime()}] Function execution took {(end - start)*1000:.3f} ms\")\n",
    "        # --------------------\n",
    "        \n",
    "        return returnedValues\n",
    "    \n",
    "    return loggedFunction"
   ]
  },
  {
   "cell_type": "code",
   "execution_count": 8,
   "metadata": {},
   "outputs": [
    {
     "name": "stdout",
     "output_type": "stream",
     "text": [
      "[2022-10-15 03:31:47.244] Function myFunction1() started with arguments ('(1, 91, 12, 28)', '{}')\n",
      "<function1 executing...>\n",
      "<function1 exiting...>\n",
      "[2022-10-15 03:31:48.249] Function myFunction1() ended with return value 1\n",
      "[2022-10-15 03:31:48.249] Function execution took 1005.236 ms\n",
      "[2022-10-15 03:31:48.249] Function myFunction2() started with arguments ('(2,)', \"{'kwarg1': 16, 'kwarg2': 63}\")\n",
      "<function1 executing...>\n",
      "<function1 exiting...>\n",
      "[2022-10-15 03:31:50.254] Function myFunction2() ended with return value 2\n",
      "[2022-10-15 03:31:50.254] Function execution took 2004.178 ms\n"
     ]
    },
    {
     "data": {
      "text/plain": [
       "2"
      ]
     },
     "execution_count": 8,
     "metadata": {},
     "output_type": "execute_result"
    }
   ],
   "source": [
    "@logger\n",
    "def myFunction1(n: int, *args):\n",
    "    print(\"<function1 executing...>\")\n",
    "    time.sleep(n)\n",
    "    print(\"<function1 exiting...>\")\n",
    "    return n\n",
    "\n",
    "@logger\n",
    "def myFunction2(n: int, **kwargs):\n",
    "    print(\"<function1 executing...>\")\n",
    "    time.sleep(n)\n",
    "    print(\"<function1 exiting...>\")\n",
    "    return n\n",
    "\n",
    "myFunction1(1, 91, 12, 28)\n",
    "myFunction2(2, kwarg1 = 16, kwarg2 = 63)"
   ]
  },
  {
   "cell_type": "markdown",
   "metadata": {},
   "source": [
    "If we nest decorator inside another decorator, we can also pass arguments to the decorator inside!\n",
    "\n",
    "For example, look at this advanced logger below:"
   ]
  },
  {
   "cell_type": "code",
   "execution_count": 9,
   "metadata": {},
   "outputs": [],
   "source": [
    "def advanced_logger(alert: bool = False):\n",
    "    def decorator(func):\n",
    "        def wrapper(*args, **kwargs):\n",
    "            \n",
    "            # things done before the passed-in function is called\n",
    "            start = time.perf_counter()\n",
    "            if alert:\n",
    "                print(\"\\n[!----        ALERT         ----!]\")\n",
    "            print(f\"[{displayTime()}] Function {func.__name__}() started with arguments {str(args), str(kwargs)}\")\n",
    "            # -------------------\n",
    "            \n",
    "            returnedValues = func(*args, **kwargs)\n",
    "            \n",
    "            # things done after the passed-in function finished execution\n",
    "            end = time.perf_counter()\n",
    "            print(f\"[{displayTime()}] Function {func.__name__}() ended with return value {str(returnedValues)}\")\n",
    "            print(f\"[{displayTime()}] Function execution took {(end - start)*1000:.3f} ms\")\n",
    "            if alert:\n",
    "                print(\"[!---- ALERT SECTION ENDING ----!]\\n\")\n",
    "            # --------------------\n",
    "            \n",
    "            return returnedValues\n",
    "        \n",
    "        return wrapper\n",
    "\n",
    "    return decorator"
   ]
  },
  {
   "cell_type": "code",
   "execution_count": 10,
   "metadata": {},
   "outputs": [
    {
     "name": "stdout",
     "output_type": "stream",
     "text": [
      "[2022-10-15 03:31:50.294] Function normal_function() started with arguments ('()', \"{'test': 1}\")\n",
      "Hello, I am just a function.\n",
      "[2022-10-15 03:31:50.295] Function normal_function() ended with return value None\n",
      "[2022-10-15 03:31:50.295] Function execution took 0.027 ms\n",
      "\n",
      "[!----        ALERT         ----!]\n",
      "[2022-10-15 03:31:50.295] Function dangerous_function() started with arguments ('()', '{}')\n",
      "Hello, I am a dangerous function that needs to be alerted on execution!\n",
      "[2022-10-15 03:31:50.295] Function dangerous_function() ended with return value None\n",
      "[2022-10-15 03:31:50.295] Function execution took 0.008 ms\n",
      "[!---- ALERT SECTION ENDING ----!]\n",
      "\n",
      "[2022-10-15 03:31:50.295] Function normal_function() started with arguments ('()', '{}')\n",
      "Hello, I am just a function.\n",
      "[2022-10-15 03:31:50.295] Function normal_function() ended with return value None\n",
      "[2022-10-15 03:31:50.295] Function execution took 0.006 ms\n"
     ]
    }
   ],
   "source": [
    "@advanced_logger()\n",
    "def normal_function(**kwargs):\n",
    "    print(\"Hello, I am just a function.\")\n",
    "\n",
    "@advanced_logger(alert = True)\n",
    "def dangerous_function():\n",
    "    print(\"Hello, I am a dangerous function that needs to be alerted on execution!\")\n",
    "    \n",
    "normal_function(test = 1)\n",
    "dangerous_function()\n",
    "normal_function()"
   ]
  },
  {
   "cell_type": "markdown",
   "metadata": {},
   "source": [
    "## References\n",
    "\n",
    "https://peps.python.org/pep-0318/\n",
    "\n",
    "https://www.datacamp.com/tutorial/decorators-python"
   ]
  }
 ],
 "metadata": {
  "kernelspec": {
   "display_name": "Python 3",
   "language": "python",
   "name": "python3"
  },
  "language_info": {
   "codemirror_mode": {
    "name": "ipython",
    "version": 3
   },
   "file_extension": ".py",
   "mimetype": "text/x-python",
   "name": "python",
   "nbconvert_exporter": "python",
   "pygments_lexer": "ipython3",
   "version": "3.10.6"
  },
  "vscode": {
   "interpreter": {
    "hash": "aee8b7b246df8f9039afb4144a1f6fd8d2ca17a180786b69acc140d282b71a49"
   }
  }
 },
 "nbformat": 4,
 "nbformat_minor": 2
}
