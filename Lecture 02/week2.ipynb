{
 "cells": [
  {
   "cell_type": "markdown",
   "id": "e9fe311b",
   "metadata": {},
   "source": [
    "# 数据科学第二节课"
   ]
  },
  {
   "cell_type": "code",
   "execution_count": 1,
   "id": "0c49f21c",
   "metadata": {},
   "outputs": [
    {
     "name": "stdout",
     "output_type": "stream",
     "text": [
      "111111111111111111111111111111111111111111111111111111111111\n"
     ]
    }
   ],
   "source": [
    "a=\"111\"\n",
    "print(a*20)"
   ]
  },
  {
   "cell_type": "code",
   "execution_count": 10,
   "id": "00bfd54c",
   "metadata": {},
   "outputs": [
    {
     "name": "stdout",
     "output_type": "stream",
     "text": [
      "t!!\n",
      "\n"
     ]
    }
   ],
   "source": [
    "string=\"This is a test!!!\"\n",
    "a=string[-4:-1]\n",
    "b=string[-1:-8] #fault\n",
    "print(a)\n",
    "print(b)"
   ]
  },
  {
   "cell_type": "code",
   "execution_count": 16,
   "id": "04429b76",
   "metadata": {},
   "outputs": [
    {
     "name": "stdout",
     "output_type": "stream",
     "text": [
      "!!!tset a si si\n",
      "!!stas iT\n",
      "!tt  h\n"
     ]
    }
   ],
   "source": [
    "print(string[::-1])\n",
    "print(string[::-2])\n",
    "print(string[::-3])"
   ]
  },
  {
   "cell_type": "code",
   "execution_count": 19,
   "id": "fc6a8883",
   "metadata": {},
   "outputs": [
    {
     "name": "stdout",
     "output_type": "stream",
     "text": [
      "0\n",
      "-1\n"
     ]
    }
   ],
   "source": [
    "my_string=\"This is a test\"\n",
    "print(my_string.index('T'))\n",
    "print(my_string.find('tt'))#没有返回-1"
   ]
  },
  {
   "cell_type": "code",
   "execution_count": 25,
   "id": "50d5a83b",
   "metadata": {},
   "outputs": [
    {
     "name": "stdout",
     "output_type": "stream",
     "text": [
      "[1, 2] 3 4\n"
     ]
    }
   ],
   "source": [
    "# List unpacking\n",
    "L = [1,2,3,4]\n",
    "*a,b, c = L\n",
    "print(a,b,c)"
   ]
  },
  {
   "cell_type": "code",
   "execution_count": 24,
   "id": "7d07f0bf",
   "metadata": {},
   "outputs": [
    {
     "name": "stdout",
     "output_type": "stream",
     "text": [
      "123\n"
     ]
    },
    {
     "ename": "TypeError",
     "evalue": "'tuple' object does not support item assignment",
     "output_type": "error",
     "traceback": [
      "\u001b[0;31m---------------------------------------------------------------------------\u001b[0m",
      "\u001b[0;31mTypeError\u001b[0m                                 Traceback (most recent call last)",
      "\u001b[0;32m<ipython-input-24-f6c5bed8ed91>\u001b[0m in \u001b[0;36m<module>\u001b[0;34m\u001b[0m\n\u001b[1;32m      2\u001b[0m \u001b[0mT\u001b[0m \u001b[0;34m=\u001b[0m \u001b[0;34m(\u001b[0m\u001b[0;36m123\u001b[0m\u001b[0;34m,\u001b[0m \u001b[0;36m45\u001b[0m\u001b[0;34m,\u001b[0m \u001b[0;34m'hello'\u001b[0m\u001b[0;34m)\u001b[0m\u001b[0;34m\u001b[0m\u001b[0;34m\u001b[0m\u001b[0m\n\u001b[1;32m      3\u001b[0m \u001b[0mprint\u001b[0m\u001b[0;34m(\u001b[0m\u001b[0mT\u001b[0m\u001b[0;34m[\u001b[0m\u001b[0;36m0\u001b[0m\u001b[0;34m]\u001b[0m\u001b[0;34m)\u001b[0m\u001b[0;34m\u001b[0m\u001b[0;34m\u001b[0m\u001b[0m\n\u001b[0;32m----> 4\u001b[0;31m \u001b[0mT\u001b[0m\u001b[0;34m[\u001b[0m\u001b[0;36m0\u001b[0m\u001b[0;34m]\u001b[0m \u001b[0;34m=\u001b[0m \u001b[0;36m234\u001b[0m\u001b[0;34m\u001b[0m\u001b[0;34m\u001b[0m\u001b[0m\n\u001b[0m\u001b[1;32m      5\u001b[0m \u001b[0mprint\u001b[0m\u001b[0;34m(\u001b[0m\u001b[0mT\u001b[0m\u001b[0;34m[\u001b[0m\u001b[0;36m0\u001b[0m\u001b[0;34m]\u001b[0m\u001b[0;34m)\u001b[0m\u001b[0;34m\u001b[0m\u001b[0;34m\u001b[0m\u001b[0m\n",
      "\u001b[0;31mTypeError\u001b[0m: 'tuple' object does not support item assignment"
     ]
    }
   ],
   "source": [
    "## Define a Tuple\n",
    "T = (123, 45, 'hello')\n",
    "print(T[0])\n",
    "T[0] = 234\n",
    "print(T[0])"
   ]
  },
  {
   "cell_type": "code",
   "execution_count": 26,
   "id": "35ed1b24",
   "metadata": {},
   "outputs": [
    {
     "name": "stdout",
     "output_type": "stream",
     "text": [
      "a 1\n",
      "b 2\n",
      "c 3\n",
      "0 a\n",
      "1 b\n",
      "2 c\n",
      "a 1\n",
      "b 2\n",
      "c 3\n"
     ]
    }
   ],
   "source": [
    "dict = {'a':1, 'b':2, 'c':3}\n",
    "for k, v in dict.items():\n",
    "    print(k,v)\n",
    "    \n",
    "## Print index and corresponding values using enumerate() function    \n",
    "for i, v in enumerate(['a', 'b', 'c']):\n",
    "    print(i, v)\n",
    "    \n",
    "## match list using zip() function\n",
    "L1 = ['a', 'b', 'c']\n",
    "L2 = [1, 2, 3]\n",
    "for k, v in zip(L1, L2):\n",
    "    print(k, v)"
   ]
  },
  {
   "cell_type": "code",
   "execution_count": 35,
   "id": "25154e28",
   "metadata": {},
   "outputs": [
    {
     "name": "stdout",
     "output_type": "stream",
     "text": [
      "Num =        0789\n"
     ]
    }
   ],
   "source": [
    "\n",
    "print('Num =%*.*d' % (12,4,789))"
   ]
  },
  {
   "cell_type": "code",
   "execution_count": 39,
   "id": "6d2c44a4",
   "metadata": {},
   "outputs": [
    {
     "ename": "KeyError",
     "evalue": "'Hi'",
     "output_type": "error",
     "traceback": [
      "\u001b[0;31m---------------------------------------------------------------------------\u001b[0m",
      "\u001b[0;31mKeyError\u001b[0m                                  Traceback (most recent call last)",
      "\u001b[0;32m<ipython-input-39-781a69dbdfdd>\u001b[0m in \u001b[0;36m<module>\u001b[0;34m\u001b[0m\n\u001b[1;32m      1\u001b[0m \u001b[0mA\u001b[0m \u001b[0;34m=\u001b[0m \u001b[0;34m'XP'\u001b[0m\u001b[0;34m\u001b[0m\u001b[0;34m\u001b[0m\u001b[0m\n\u001b[1;32m      2\u001b[0m \u001b[0mB\u001b[0m \u001b[0;34m=\u001b[0m \u001b[0;34m'Hello!'\u001b[0m\u001b[0;34m\u001b[0m\u001b[0;34m\u001b[0m\u001b[0m\n\u001b[0;32m----> 3\u001b[0;31m \u001b[0mprint\u001b[0m\u001b[0;34m(\u001b[0m\u001b[0;34m\"{Hi}, my name is {NAME}\"\u001b[0m\u001b[0;34m.\u001b[0m\u001b[0mformat\u001b[0m\u001b[0;34m(\u001b[0m\u001b[0mA\u001b[0m\u001b[0;34m,\u001b[0m \u001b[0mB\u001b[0m\u001b[0;34m)\u001b[0m\u001b[0;34m)\u001b[0m\u001b[0;34m\u001b[0m\u001b[0;34m\u001b[0m\u001b[0m\n\u001b[0m",
      "\u001b[0;31mKeyError\u001b[0m: 'Hi'"
     ]
    }
   ],
   "source": [
    "A = 'XP'\n",
    "B = 'Hello!'\n",
    "print(\"{Hi}, my name is {NAME}\".format(A, B))"
   ]
  },
  {
   "cell_type": "code",
   "execution_count": 40,
   "id": "29effb88",
   "metadata": {},
   "outputs": [
    {
     "data": {
      "text/plain": [
       "'Hello! and XP are string types'"
      ]
     },
     "execution_count": 40,
     "metadata": {},
     "output_type": "execute_result"
    }
   ],
   "source": [
    "FormatSTR = \"{1} and {0} are string types\"\n",
    "FormatSTR.format(A, B)"
   ]
  },
  {
   "cell_type": "code",
   "execution_count": 42,
   "id": "e27007a8",
   "metadata": {},
   "outputs": [
    {
     "name": "stdout",
     "output_type": "stream",
     "text": [
      "1\n"
     ]
    }
   ],
   "source": [
    "## Check x += 1 && x =+ 1\n",
    "x = 1\n",
    "x =+ 1\n",
    "print(x)\n"
   ]
  },
  {
   "cell_type": "code",
   "execution_count": 43,
   "id": "1825aa42",
   "metadata": {},
   "outputs": [
    {
     "name": "stdout",
     "output_type": "stream",
     "text": [
      "2\n"
     ]
    }
   ],
   "source": [
    "x += 1   #x = x + 1\n",
    "print(x)"
   ]
  },
  {
   "cell_type": "code",
   "execution_count": 44,
   "id": "87eea974",
   "metadata": {},
   "outputs": [
    {
     "name": "stdout",
     "output_type": "stream",
     "text": [
      "P\n",
      "Y\n",
      "T\n",
      "H\n",
      "O\n",
      "N\n"
     ]
    }
   ],
   "source": [
    "## Loop Over String\n",
    "for c in \"python\":\n",
    "    print(c.capitalize())\n",
    "    "
   ]
  },
  {
   "cell_type": "code",
   "execution_count": 51,
   "id": "b90e13b4",
   "metadata": {},
   "outputs": [
    {
     "name": "stdout",
     "output_type": "stream",
     "text": [
      "0 1\n",
      "1 2\n",
      "2 3\n",
      "3 4\n",
      "1\n",
      "2\n",
      "3\n",
      "4\n"
     ]
    }
   ],
   "source": [
    "areas = [1, 2, 3, 4]\n",
    "for i, value in enumerate(areas):\n",
    "    print(i, value)\n",
    "for index in areas:\n",
    "    print(index)"
   ]
  },
  {
   "cell_type": "code",
   "execution_count": 52,
   "id": "7c8293b0",
   "metadata": {},
   "outputs": [
    {
     "name": "stdout",
     "output_type": "stream",
     "text": [
      "The capital of spain is madrid\n",
      "The capital of france is paris\n",
      "The capital of germany is berlin\n",
      "The capital of norway is oslo\n",
      "The capital of italy is rome\n",
      "The capital of poland is warsaw\n",
      "The capital of austria is vienna\n",
      "dict_keys(['spain', 'france', 'germany', 'norway', 'italy', 'poland', 'austria'])\n",
      "The capital of spain is madrid\n",
      "The capital of france is paris\n",
      "The capital of germany is berlin\n",
      "The capital of norway is oslo\n",
      "The capital of italy is rome\n",
      "The capital of poland is warsaw\n",
      "The capital of austria is vienna\n"
     ]
    }
   ],
   "source": [
    "## Loop Over Dictionary\n",
    "europe = {'spain':'madrid', 'france':'paris', 'germany':'berlin',\n",
    "          'norway':'oslo', 'italy':'rome', 'poland':'warsaw', 'austria':'vienna' }\n",
    "          \n",
    "# Iterate over europe\n",
    "for key, value in europe.items():\n",
    "    print(\"The capital of \" + key + \" is \" + value)\n",
    "    \n",
    "print(europe.keys())    \n",
    "\n",
    "for key in europe.keys():\n",
    "    print(\"The capital of \" + key + \" is \" + europe[key])"
   ]
  },
  {
   "cell_type": "code",
   "execution_count": 57,
   "id": "5d997d81",
   "metadata": {},
   "outputs": [
    {
     "name": "stdout",
     "output_type": "stream",
     "text": [
      "madrid madrid\n",
      "None\n",
      "madrid\n"
     ]
    }
   ],
   "source": [
    "print(europe['spain'], europe.get('spain'))\n",
    "print(europe.get('spainn'))\n",
    "print(europe['spain'])"
   ]
  },
  {
   "cell_type": "code",
   "execution_count": 60,
   "id": "0492acd7",
   "metadata": {},
   "outputs": [
    {
     "name": "stdout",
     "output_type": "stream",
     "text": [
      "1\n",
      "2\n",
      "3\n",
      "2\n",
      "3\n",
      "4\n",
      "3\n",
      "4\n",
      "5\n"
     ]
    }
   ],
   "source": [
    "import numpy as np\n",
    "np_array = np.array([1, 2, 3, 4])\n",
    "dl = [[1,2,3], [2,3,4], [3,4,5]]\n",
    "np_array2d = np.array(dl)\n",
    "for item in np.nditer(np_array2d):\n",
    "    print(item)"
   ]
  },
  {
   "cell_type": "code",
   "execution_count": 9,
   "id": "167526a9",
   "metadata": {},
   "outputs": [
    {
     "name": "stdout",
     "output_type": "stream",
     "text": [
      "1*1=1      \n",
      "1*2=2    2*2=4      \n",
      "1*3=3    2*3=6    3*3=9      \n",
      "1*4=4    2*4=8    3*4=12    4*4=16      \n",
      "1*5=5    2*5=10    3*5=15    4*5=20    5*5=25      \n",
      "1*6=6    2*6=12    3*6=18    4*6=24    5*6=30    6*6=36      \n",
      "1*7=7    2*7=14    3*7=21    4*7=28    5*7=35    6*7=42    7*7=49      \n",
      "1*8=8    2*8=16    3*8=24    4*8=32    5*8=40    6*8=48    7*8=56    8*8=64      \n",
      "1*9=9    2*9=18    3*9=27    4*9=36    5*9=45    6*9=54    7*9=63    8*9=72    9*9=81      \n"
     ]
    }
   ],
   "source": [
    "for i in range(1,10):\n",
    "    for j in range(1,i+1):\n",
    "        print(f'{j}*{i}={i*j}', end=\"    \")\n",
    "    print(\"  \")"
   ]
  },
  {
   "cell_type": "code",
   "execution_count": 16,
   "id": "408d3f71",
   "metadata": {},
   "outputs": [
    {
     "data": {
      "text/plain": [
       "[['1*1=1'],\n",
       " ['2*1=2', '2*2=4'],\n",
       " ['3*1=3', '3*2=6', '3*3=9'],\n",
       " ['4*1=4', '4*2=8', '4*3=12', '4*4=16'],\n",
       " ['5*1=5', '5*2=10', '5*3=15', '5*4=20', '5*5=25'],\n",
       " ['6*1=6', '6*2=12', '6*3=18', '6*4=24', '6*5=30', '6*6=36'],\n",
       " ['7*1=7', '7*2=14', '7*3=21', '7*4=28', '7*5=35', '7*6=42', '7*7=49'],\n",
       " ['8*1=8',\n",
       "  '8*2=16',\n",
       "  '8*3=24',\n",
       "  '8*4=32',\n",
       "  '8*5=40',\n",
       "  '8*6=48',\n",
       "  '8*7=56',\n",
       "  '8*8=64'],\n",
       " ['9*1=9',\n",
       "  '9*2=18',\n",
       "  '9*3=27',\n",
       "  '9*4=36',\n",
       "  '9*5=45',\n",
       "  '9*6=54',\n",
       "  '9*7=63',\n",
       "  '9*8=72',\n",
       "  '9*9=81']]"
      ]
     },
     "execution_count": 16,
     "metadata": {},
     "output_type": "execute_result"
    }
   ],
   "source": [
    "[['{}*{}={}'.format(i,j,i*j) for j in range(1,i+1)] for i in range(1,10)]\n",
    "\n"
   ]
  },
  {
   "cell_type": "code",
   "execution_count": 17,
   "id": "944e56d4",
   "metadata": {},
   "outputs": [
    {
     "data": {
      "text/plain": [
       "['1*1=1',\n",
       " '2*1=2 2*2=4',\n",
       " '3*1=3 3*2=6 3*3=9',\n",
       " '4*1=4 4*2=8 4*3=12 4*4=16',\n",
       " '5*1=5 5*2=10 5*3=15 5*4=20 5*5=25',\n",
       " '6*1=6 6*2=12 6*3=18 6*4=24 6*5=30 6*6=36',\n",
       " '7*1=7 7*2=14 7*3=21 7*4=28 7*5=35 7*6=42 7*7=49',\n",
       " '8*1=8 8*2=16 8*3=24 8*4=32 8*5=40 8*6=48 8*7=56 8*8=64',\n",
       " '9*1=9 9*2=18 9*3=27 9*4=36 9*5=45 9*6=54 9*7=63 9*8=72 9*9=81']"
      ]
     },
     "execution_count": 17,
     "metadata": {},
     "output_type": "execute_result"
    }
   ],
   "source": [
    "[' '.join(['{}*{}={}'.format(i,j,i*j) for j in range(1,i+1)]) for i in range(1,10)]"
   ]
  },
  {
   "cell_type": "code",
   "execution_count": 13,
   "id": "6b36999a",
   "metadata": {},
   "outputs": [
    {
     "name": "stdout",
     "output_type": "stream",
     "text": [
      "1*1=1\n",
      "2*1=2 2*2=4\n",
      "3*1=3 3*2=6 3*3=9\n",
      "4*1=4 4*2=8 4*3=12 4*4=16\n",
      "5*1=5 5*2=10 5*3=15 5*4=20 5*5=25\n",
      "6*1=6 6*2=12 6*3=18 6*4=24 6*5=30 6*6=36\n",
      "7*1=7 7*2=14 7*3=21 7*4=28 7*5=35 7*6=42 7*7=49\n",
      "8*1=8 8*2=16 8*3=24 8*4=32 8*5=40 8*6=48 8*7=56 8*8=64\n",
      "9*1=9 9*2=18 9*3=27 9*4=36 9*5=45 9*6=54 9*7=63 9*8=72 9*9=81\n"
     ]
    }
   ],
   "source": [
    "print('\\n'.join([' '.join(['{}*{}={}'.format(i,j,i*j) for j in range(1,i+1)]) for i in range(1,10)]))\n"
   ]
  },
  {
   "cell_type": "code",
   "execution_count": 18,
   "id": "cb6f53dd",
   "metadata": {},
   "outputs": [
    {
     "data": {
      "text/plain": [
       "'1*1=1\\n2*1=2 2*2=4\\n3*1=3 3*2=6 3*3=9\\n4*1=4 4*2=8 4*3=12 4*4=16\\n5*1=5 5*2=10 5*3=15 5*4=20 5*5=25\\n6*1=6 6*2=12 6*3=18 6*4=24 6*5=30 6*6=36\\n7*1=7 7*2=14 7*3=21 7*4=28 7*5=35 7*6=42 7*7=49\\n8*1=8 8*2=16 8*3=24 8*4=32 8*5=40 8*6=48 8*7=56 8*8=64\\n9*1=9 9*2=18 9*3=27 9*4=36 9*5=45 9*6=54 9*7=63 9*8=72 9*9=81'"
      ]
     },
     "execution_count": 18,
     "metadata": {},
     "output_type": "execute_result"
    }
   ],
   "source": [
    "'\\n'.join([' '.join(['{}*{}={}'.format(i,j,i*j) for j in range(1,i+1)]) for i in range(1,10)])\n"
   ]
  },
  {
   "cell_type": "code",
   "execution_count": 22,
   "id": "b037f879",
   "metadata": {},
   "outputs": [
    {
     "name": "stdout",
     "output_type": "stream",
     "text": [
      "<class 'list'>\n",
      "<class 'list'>\n",
      "<class 'str'>\n"
     ]
    }
   ],
   "source": [
    "print(type([['{}*{}={}'.format(i,j,i*j) for j in range(1,i+1)] for i in range(1,10)]))\n",
    "print(type([' '.join(['{}*{}={}'.format(i,j,i*j) for j in range(1,i+1)]) for i in range(1,10)]))\n",
    "print(type('\\n'.join([' '.join(['{}*{}={}'.format(i,j,i*j) for j in range(1,i+1)]) for i in range(1,10)])))"
   ]
  },
  {
   "cell_type": "code",
   "execution_count": null,
   "id": "a56caee6",
   "metadata": {},
   "outputs": [],
   "source": []
  }
 ],
 "metadata": {
  "kernelspec": {
   "display_name": "Python 3",
   "language": "python",
   "name": "python3"
  },
  "language_info": {
   "codemirror_mode": {
    "name": "ipython",
    "version": 3
   },
   "file_extension": ".py",
   "mimetype": "text/x-python",
   "name": "python",
   "nbconvert_exporter": "python",
   "pygments_lexer": "ipython3",
   "version": "3.8.8"
  }
 },
 "nbformat": 4,
 "nbformat_minor": 5
}
